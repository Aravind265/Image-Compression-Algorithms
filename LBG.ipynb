{
  "nbformat": 4,
  "nbformat_minor": 0,
  "metadata": {
    "colab": {
      "name": "LBG.ipynb",
      "provenance": [],
      "collapsed_sections": []
    },
    "kernelspec": {
      "name": "python3",
      "display_name": "Python 3"
    },
    "language_info": {
      "name": "python"
    }
  },
  "cells": [
    {
      "cell_type": "code",
      "metadata": {
        "id": "-xGRlZ9THC2R"
      },
      "source": [
        "import math\n",
        "from PIL import Image\n",
        "\n",
        "def distance(x,y):\n",
        "        ans = 0\n",
        "        for i in range (3):\n",
        "            ans += (x[i]-y[i])**2\n",
        "        return ans**0.5\n",
        "    \n",
        "def distortion(y1,y2,v1,v2):\n",
        "    ans = 0\n",
        "    for i in v1:\n",
        "        ans += math.ceil(distance(i,y1)**2)\n",
        "    for i in v2:\n",
        "        ans += math.ceil(distance(i,y2)**2)\n",
        "    ans = ans/(len(v1)+len(v2))\n",
        "    return ans\n",
        "        \n",
        "    \n",
        "im =Image.open(\"color.jpg\")\n",
        "arr = list(im.getdata())\n",
        "\n",
        "y1 = list(arr[0])\n",
        "y2 = list(arr[1])\n",
        "err = 0.02\n",
        "D0 = 0 \n",
        "v1 = []\n",
        "v2 = []\n",
        "\n",
        "boolean = False\n",
        "while not boolean:\n",
        "    v1 = []\n",
        "    v2 = []\n",
        "    for i in range (len(arr)):\n",
        "        a1 = distance(y1,arr[i])\n",
        "        a2 = distance(y2,arr[i])\n",
        "        if a1 < a2:\n",
        "            v1.append(arr[i])\n",
        "        else:\n",
        "            v2.append(arr[i])\n",
        "            \n",
        "    D1 = distortion(y1,y1,v1,v2)        \n",
        "    boolean = abs((D1-D0))/D1 < err\n",
        "    if not boolean:\n",
        "        if len(v1) > 0:\n",
        "            for i in range(3):\n",
        "                val = 0\n",
        "                for j in range(len(v1)):\n",
        "                    val += v1[j][i]\n",
        "                y1[i] = math.ceil(val/len(v1))\n",
        "        if len(v2) > 0:\n",
        "            for i in range(3):\n",
        "                val = 0\n",
        "                for j in range(len(v2)):\n",
        "                    val += v2[j][i]\n",
        "                y2[i] = math.ceil(val/len(v2))\n",
        "    D0 = D1\n",
        "\n",
        "for i in range (len(v1)):\n",
        "    arr[arr.index(v1[i])] = tuple(y1)\n",
        "for i in range (len(v2)):\n",
        "    arr[arr.index(v2[i])] = tuple(y2)\n",
        "\n",
        "res = Image.new(\"RGB\",im.size)\n",
        "res.putdata(arr)\n",
        "res.save('compress.jpg')  "
      ],
      "execution_count": null,
      "outputs": []
    }
  ]
}